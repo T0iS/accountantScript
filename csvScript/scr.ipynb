{
 "cells": [
  {
   "cell_type": "code",
   "execution_count": 29,
   "metadata": {},
   "outputs": [
    {
     "data": {
      "text/plain": [
       "0       71171\n",
       "1      192807\n",
       "2      194269\n",
       "3      194817\n",
       "4      194821\n",
       "        ...  \n",
       "382     71432\n",
       "383     71433\n",
       "384     71434\n",
       "385     71438\n",
       "386     71440\n",
       "Name: Vaše obj. č., Length: 387, dtype: object"
      ]
     },
     "execution_count": 29,
     "metadata": {},
     "output_type": "execute_result"
    }
   ],
   "source": [
    "import pandas as pd\n",
    "import os\n",
    "\n",
    "\n",
    "cesta_k_souboru = os.path.join('191293315.csv')\n",
    "data = pd.read_csv(cesta_k_souboru, sep=';' )\n",
    "\n",
    "fak = os.path.join('faktury.csv')\n",
    "inv = pd.read_csv(fak, encoding='latin-1', sep=';' )\n",
    "\n",
    "\n",
    "#data['Vaše obj. č.'].head()\n",
    "#inv['Cislo objednavky'].head()\n",
    "\n",
    "\n",
    "\n",
    "\n",
    "\n",
    "\n",
    "\n"
   ]
  },
  {
   "cell_type": "code",
   "execution_count": null,
   "metadata": {},
   "outputs": [],
   "source": []
  }
 ],
 "metadata": {
  "file_extension": ".py",
  "kernelspec": {
   "display_name": "Python 3",
   "language": "python",
   "name": "python3"
  },
  "language_info": {
   "codemirror_mode": {
    "name": "ipython",
    "version": 3
   },
   "file_extension": ".py",
   "mimetype": "text/x-python",
   "name": "python",
   "nbconvert_exporter": "python",
   "pygments_lexer": "ipython3",
   "version": "3.6.4"
  },
  "mimetype": "text/x-python",
  "name": "python",
  "npconvert_exporter": "python",
  "pygments_lexer": "ipython3",
  "version": 3
 },
 "nbformat": 4,
 "nbformat_minor": 2
}
